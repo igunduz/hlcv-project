{
 "cells": [
  {
   "cell_type": "code",
   "execution_count": null,
   "metadata": {},
   "outputs": [],
   "source": [
    "# Only for Colab, comment out if not using Colab\n",
    "#from google.colab import drive\n",
    "#drive.mount('/content/drive')"
   ]
  },
  {
   "cell_type": "code",
   "execution_count": null,
   "metadata": {},
   "outputs": [],
   "source": [
    "# Change this line if you're using Colab to something like '/content/drive/MyDrive/TeamX/'\n",
    "# where TeamX is just the clone of repository on your Google Drive\n",
    "# and you have mounted the drive at /content/drive  \n",
    "# See the Tutorial Slides for more detail.\n",
    "\n",
    "# Works on your local machine but not on Colab!\n",
    "PROJECT_ROOT = '../..' \n",
    "\n",
    "# Fix this path and use this one on Colab\n",
    "# PROJECT_ROOT = '/content/drive/MyDrive/TeamX' "
   ]
  },
  {
   "cell_type": "code",
   "execution_count": null,
   "metadata": {},
   "outputs": [],
   "source": [
    "import sys\n",
    "from os.path import join as ospj\n",
    "\n",
    "sys.path.append(ospj(PROJECT_ROOT, 'src'))\n",
    "\n",
    "%load_ext autoreload\n",
    "%autoreload 2"
   ]
  },
  {
   "cell_type": "markdown",
   "metadata": {
    "id": "nO23A_d-c4t8"
   },
   "source": [
    "In Exercise 3, you will implement a convolutional neural network to perform image classification and explore methods to improve the training performance and generalization of these networks.\n",
    "We will use the CIFAR-10 dataset as a benchmark for our networks, similar to the previous exercise. This dataset consists of 50000 training images of 32x32 resolution with 10 object classes, namely airplanes, cars, birds, cats, deer, dogs, frogs, horses, ships, and trucks. The task is to implement a convolutional network to classify these images using the PyTorch library. The four questions are,\n",
    "\n",
    "- Implementing a convolutional neural network, training it, and visualizing its weights (Question 1).\n",
    "- Experiment with batch normalization and early stopping (Question 2).\n",
    "- Data augmentation and dropout to improve generalization (Question 3).\n",
    "- Implement transfer learning from an ImageNet-pretrained model (Question 4)."
   ]
  },
  {
   "cell_type": "markdown",
   "metadata": {
    "id": "cpyHKxVkc4t-"
   },
   "source": [
    "### Question 1: Implement Convolutional Network (10 points)\n",
    "\n",
    "In this question, we will implement a five-layered convolutional neural network architecture as well as the loss function to train it. Refer to the comments in the code to the exact places where you need to fill in the code.\n",
    "\n",
    "![](../../data/exercise-3/fig1.png)"
   ]
  },
  {
   "cell_type": "markdown",
   "metadata": {
    "id": "AZsjBOeJc4uA"
   },
   "source": [
    "a) Our architecture is shown in Fig 1. It has five convolution blocks. Each block is consist of convolution, max pooling, and ReLU operation in that order. We will use 3×3 kernels in all convolutional layers. Set the padding and stride of the convolutional layers so that they maintain the spatial dimensions. Max pooling operations are done with 2×2 kernels, with a stride of 2, thereby halving the spatial resolution each time. Finally, stacking these five blocks leads to a 512 × 1 × 1 feature map. Classification is achieved by a fully connected layer. We will train convolutional neural networks on the CIFAR-10 dataset. Implement a class ConvNet to define the model described. The ConvNet takes 32 × 32 color images as inputs and has 5 hidden layers with 128, 512, 512, 512, 512 filters, and produces a 10-class classification. The code to train the model is already provided. Train the above model and report the training and validation accuracies. (5 points)\n",
    "\n",
    "Please implement the above network (initialization and forward pass) in class `ConvNet` in `models/cnn/model.py`.\n",
    "\n",
    "b) Implement the method `__str__` in `models/base_model.py`, which should give a string representaiton of the model. The string should show the number of `trainable` parameters for each layer. This gives us a measure of model capacity. Also at the end, the string contains the total number of trainable parameters for the entire model. (2 points)"
   ]
  },
  {
   "cell_type": "markdown",
   "metadata": {
    "id": "hDrZOaNYc4uC"
   },
   "source": [
    "![](../../data/exercise-3/fig2.png)"
   ]
  },
  {
   "cell_type": "markdown",
   "metadata": {
    "id": "gyQqsQZVc4uD",
    "tags": [
     "batch norm"
    ]
   },
   "source": [
    "c) Implement a function `VisualizeFilter` in `models/cnn/model.py`, which visualizes the filters of the first convolution layer implemented in Q1.a. In other words, you need to show 128 filters with size 3x3 as color images (since each filter has three input channels). Stack these into 3x3 color images into one large image. You can use the `imshow` function from the `matplotlib` library to visualize the weights. See an example in Fig. 2 Compare the filters before and after training. Do you see any patterns? (3 points). Please attach your output images before and after training in a cell with your submission."
   ]
  },
  {
   "cell_type": "code",
   "execution_count": null,
   "metadata": {},
   "outputs": [],
   "source": [
    "from torchvision import transforms\n",
    "\n",
    "from utils.parse_config import ConfigParser\n",
    "from trainers.cnn_trainer import CNNTrainer\n",
    "import data_loaders.data_modules as module_data\n",
    "\n",
    "from copy import deepcopy\n",
    "%aimport -ConfigParser # Due to an issue of pickle and auto_reload"
   ]
  },
  {
   "cell_type": "code",
   "execution_count": null,
   "metadata": {},
   "outputs": [],
   "source": [
    "config = ConfigParser.wo_args(config='cfgs/exercise-3/cnn_cifar10.json', root_dir=PROJECT_ROOT)\n",
    "\n",
    "datamodule = config.init_obj('data_module', module_data,\n",
    "                             root_dir=PROJECT_ROOT #Just add the root_dir to the rest of the arguments defined in config file\n",
    "                            )\n",
    "\n",
    "# Based on the heldout_split in the config file, \n",
    "# the datamodule will break the dataset into two splits\n",
    "train_data_loader = datamodule.get_loader()\n",
    "valid_data_loader = datamodule.get_heldout_loader()\n",
    "\n",
    "# Test loader is the same as train loader\n",
    "# except that training=False, shuffle=False, and no splitting is done \n",
    "# So we use the exact config from training and just modify these arguments\n",
    "test_loader_args = deepcopy(config['data_module']['args']) #copy the args\n",
    "test_loader_args['training']=False\n",
    "test_loader_args['shuffle']=False\n",
    "test_loader_args['heldout_split']=0.0\n",
    "\n",
    "# Now we initialize the test module with the modified config\n",
    "test_module = getattr(module_data, config['data_module']['type'])(root_dir=PROJECT_ROOT, **test_loader_args)\n",
    "# And get the loader from it\n",
    "test_loader = test_module.get_loader()"
   ]
  },
  {
   "cell_type": "code",
   "execution_count": null,
   "metadata": {},
   "outputs": [],
   "source": [
    "trainer_cnn = CNNTrainer(config=config, train_loader=train_data_loader, eval_loader=valid_data_loader)\n",
    "\n",
    "trainer_cnn.model.VisualizeFilter()\n",
    "trainer_cnn.train()\n",
    "trainer_cnn.model.VisualizeFilter()"
   ]
  },
  {
   "cell_type": "code",
   "execution_count": null,
   "metadata": {},
   "outputs": [],
   "source": [
    "# Change this to the experiment you want to visualize (format is `MMDD_TIME`)\n",
    "checkpoint_dir = '0607_121554' \n",
    "path = ospj(PROJECT_ROOT, f'saved/models/CIFAR10_CNN/{checkpoint_dir}/best_val_model.pth')\n",
    "\n",
    "trainer_cnn.load_model(path=path)\n",
    "\n",
    "result = trainer_cnn.evaluate(loader=test_loader)\n",
    "\n",
    "print(result)"
   ]
  },
  {
   "cell_type": "markdown",
   "metadata": {
    "id": "MKti0Y9ic4uK"
   },
   "source": [
    "#### Wirte your report for Q1 in this cell.\n",
    "\n",
    "<br>\n",
    "<br>\n",
    "<br>"
   ]
  },
  {
   "cell_type": "markdown",
   "metadata": {
    "id": "A5_tJXTmc4uK"
   },
   "source": [
    "### Question 2: Improve training of Convolutional Networks (15 points)"
   ]
  },
  {
   "cell_type": "code",
   "execution_count": null,
   "metadata": {},
   "outputs": [],
   "source": [
    "config = ConfigParser.wo_args(config='cfgs/exercise-3/q1a_cnn_cifar10.json', root_dir=PROJECT_ROOT)\n",
    "trainer_cnn = CNNTrainer(config=config, train_loader=train_data_loader, eval_loader=valid_data_loader)\n",
    "trainer_cnn.train()\n",
    "\n",
    "result = trainer_cnn.evaluate(loader=test_loader)\n",
    "\n",
    "print('Q1.a')\n",
    "print(result)"
   ]
  },
  {
   "cell_type": "markdown",
   "metadata": {},
   "source": [
    "a) Batch normalization is a widely used operation in neural networks, which will increase the speed of convergence and reach higher performance. You can read the paper “Batch Normalization: Accelerating Deep Network Training by Reducing Internal Covariate Shift” for more theoretical details.\n",
    "In practice, these operations are implemented in most toolboxes, such as PyTorch and TensorFlow. Add batch normalization in the model of Q1.a (You can use PyTorch's implementation). Please keep other hyperparameters the same, but only add batch normalization. The ConvNet with batch normalization still uses the same class with Q1.a but different arguments. Check the code for details. In each block, the computations are in the order of convolution, batch normalization, pooling, and ReLU. Compare the loss curves and accuracy using batch normalization to its counterpart in Q1.a. (5 points)"
   ]
  },
  {
   "cell_type": "code",
   "execution_count": null,
   "metadata": {},
   "outputs": [],
   "source": [
    "config = ConfigParser.wo_args(config='cfgs/exercise-3/q2a_cnn_cifar10.json', root_dir=PROJECT_ROOT)\n",
    "trainer_cnn = CNNTrainer(config=config, train_loader=train_data_loader, eval_loader=valid_data_loader)\n",
    "trainer_cnn.train()\n",
    "\n",
    "result = trainer_cnn.evaluate(loader=test_loader)\n",
    "\n",
    "print('Q2.a')\n",
    "print(result)"
   ]
  },
  {
   "cell_type": "markdown",
   "metadata": {},
   "source": [
    "Wirte your report for Q2.a in this cell. Feel free to add extra code cells:\n",
    "\n",
    "Q2.a Report\n",
    "Test results:\n",
    "Q1.a\n",
    "{'loss': 0.8115487611293792, 'top1': 0.7649000000000001, 'top5': 0.9843999999999999}\n",
    "Q2.a\n",
    "{'loss': 0.8006674289703369, 'top1': 0.8500999999999999, 'top5': 0.9910000000000001}\n",
    "\n",
    "As we can see, the top accurcy improves by almost 9% which is a huge increse really showing the impact of batch normalization. The top5 accuracy improved by about 0.6%, the shows that batch normalization helps the fine grain decisions."
   ]
  },
  {
   "cell_type": "markdown",
   "metadata": {},
   "source": [
    "b) Throughout training, we optimize our parameters on the training set. This does not guarantee that with ever step we also improve on validation and test set as well! Hence, there is no reason for our latest training checkpoint (the last checkpoint after the last epoch) to be the best to keep. One simple idea is to save a checkpoint of the best model for the validation set throughout the training. Meanining that as the training proceeds, we keep checking our accuracy after each epoch (or every N epochs) and save the best model. This can mitigate overfitting, as if the model overfits to training data (and accuracy on validation set drops), we would still have access to the best model checkpoint! Note that you should not do this on the test set, as we are not alowed to optimize **anything** (including the checkpoint selection) on the test set.\n",
    "\n",
    "For this task, you need add the logic for saving the `best model` during the training. In the `src/trainers/base_trainer`, in method `train()` we have already have the call to `self.evaluate()`. All you need to add is to process the returned result (a dictionary of metric_key -> metric_value) and see if you should save a checkpoint of the model. If yes, then you can save a checkpoint at `self.checkpoint_dir` under `best_val_model.pth` or a similar name, using the `save_model()` method. Feel free to define additional class attributes or methods if needed.\n",
    "We also recommend adding a few prints, such as the epochs that you save the best model at.\n",
    "\n",
    "Increase the training epochs to 50 in Q1.a and Q2.a, and compare the **best model** and **latest model** on the **training set** and **validation set**. Due to the randomness, you can train multiple times to verify and observe overfitting and early stopping. (5 points)\n",
    "Feel free to add any needed train/evaluation code below for this task.\n",
    "\n",
    "You can also add extra code to `base_trainer.py` so that it returns extra information after the training is finished. For example, in assignment 2's `models/twolayernet/model.py` we had a train method that would return the history of loss values, and then in the notebook the history was plotted. Feel free to make adjustments that let you better understand what's happening. This also applies to next questions. Right now the code only uses tensorboard and wandb for plotting (if enabled in config). "
   ]
  },
  {
   "cell_type": "code",
   "execution_count": null,
   "metadata": {},
   "outputs": [],
   "source": [
    "config = ConfigParser.wo_args(config='cfgs/exercise-3/q2b_cnn_cifar10.json', root_dir=PROJECT_ROOT)\n",
    "trainer_cnn = CNNTrainer(config=config, train_loader=train_data_loader, eval_loader=valid_data_loader)\n",
    "trainer_cnn.train()\n",
    "\n",
    "result = trainer_cnn.evaluate(loader=test_loader)\n",
    "\n",
    "print('Q2.b')\n",
    "print(result)"
   ]
  },
  {
   "cell_type": "markdown",
   "metadata": {
    "id": "wWeRAObUc4uL"
   },
   "source": [
    "Wirte your report for Q2.b in this cell. Feel free to add extra code cells\n",
    "\n",
    "#### Run 1 \n",
    "##### Last Model:\n",
    "- Epoch 50 improved: False (loss: 0.8664000000000001) (best: 0.8704000000000001)\n",
    "-     epoch          : 50\n",
    "-     loss           : 0.004294922570891989\n",
    "-     top1           : 0.9985777777777786\n",
    "-     top5           : 1.0\n",
    "-     eval_loss      : 0.8261498022079468\n",
    "-     eval_top1      : 0.8664000000000001\n",
    "-     eval_top5      : 0.9934000000000001\n",
    "    \n",
    "##### Best Model:\n",
    "- Epoch 46 improved: True (loss: 0.8704000000000001) (best: 0.8696)\n",
    "- Saving checkpoint: ../../saved/models/CIFAR10_CNN/0607_143103/best_val_model.pth ...\n",
    "- Checkpoint saved.\n",
    "- New best model saved at epoch 46\n",
    "-     epoch          : 46\n",
    "-     loss           : 0.0035288495176872756\n",
    "-     top1           : 0.9989777777777782\n",
    "-     top5           : 1.0\n",
    "-     eval_loss      : 0.7964597141742706\n",
    "-     eval_top1      : 0.8704000000000001\n",
    "-     eval_top5      : 0.9936000000000001\n",
    "\n",
    "\n",
    "#### Run 2\n",
    "\n",
    "##### Last Model\n",
    "- Epoch 50 improved: False (loss: 0.8651999999999999) (best: 0.8711999999999999)\n",
    "-     epoch          : 50\n",
    "-     loss           : 0.005001549507400746\n",
    "-     top1           : 0.9982000000000011\n",
    "-     top5           : 1.0\n",
    "-     eval_loss      : 0.8504986882209777\n",
    "-     eval_top1      : 0.8651999999999999\n",
    "-     eval_top5      : 0.9923999999999998\n",
    "\n",
    "##### Best Model\n",
    "- Epoch 44 improved: True (loss: 0.8711999999999999) (best: 0.8705999999999999)\n",
    "- Saving checkpoint: ../../saved/models/CIFAR10_CNN/0607_160828/best_val_model.pth ...\n",
    "- Checkpoint saved.\n",
    "- New best model saved at epoch 44\n",
    "-     epoch          : 44\n",
    "-     loss           : 0.005420059428951289\n",
    "-     top1           : 0.9982444444444453\n",
    "-     top5           : 1.0\n",
    "-     eval_loss      : 0.7632241976261139\n",
    "-     eval_top1      : 0.8711999999999999\n",
    "-     eval_top5      : 0.9915999999999999\n",
    "    \n",
    "    \n",
    "#### Report \n",
    "The best model was found at epoch 46, while the training accuracy is almost equal (a little better for the last model), the eval top1 accuracy of the best model is about 0.4% better for the best model though. For the second run the eval top1 accuracy differences are similar, while the eval top5 accuracy is minimal worse. The best model was found 2 epochs earlier, at epoch 44."
   ]
  },
  {
   "cell_type": "markdown",
   "metadata": {},
   "source": [
    "c) While in part `b` we save the best model, we still do as many epochs as indicated in the config file. This is not convenient as the overfitting steps are wasting time and compute and also wouldn't affect the best model. Hence, Early Stopping can be helpful, where we **stop** the training after a few non-improving steps! Early stopping logic should be considered after every training epoch is finished, to see if we should do more epochs or not. Therefore, the logic should should be implemented in `train` method in `base_trainer.py` (which takes care of running multiple epochs). You need to implement it at the end of the loop over epochs.\n",
    "\n",
    "Once implemented, you need to change the config file to enable early stopping. You can either modify `cfgs/exercise-3/cnn_cifar10.json` directly or simply create a copy at the same place under a different name and parse that config instead. Within the config file, modify the following \"trainer\" configs:\n",
    "```JSON\n",
    "{\n",
    "    ...\n",
    "    \"trainer\":{\n",
    "        ...\n",
    "        \"monitor\": \"max eval_top1\",\n",
    "        \"early_stop\": 0 -> change to 4\n",
    "    }\n",
    "}\n",
    "```\n",
    "This will enable the early stopping to be considered for `eval_top1` metric and the maximum number of non-improving steps will be set to 4.\n",
    "\n",
    "Re-run one of the experiments from part `b` that the best epoch was way lower than the total number of epochs, and see if early stopping can prevent unnecessary training epochs."
   ]
  },
  {
   "cell_type": "code",
   "execution_count": null,
   "metadata": {},
   "outputs": [],
   "source": [
    "config = ConfigParser.wo_args(config='cfgs/exercise-3/q2c_cnn_cifar10.json', root_dir=PROJECT_ROOT)\n",
    "trainer_cnn = CNNTrainer(config=config, train_loader=train_data_loader, eval_loader=valid_data_loader)\n",
    "trainer_cnn.train()\n",
    "\n",
    "result = trainer_cnn.evaluate(loader=test_loader)\n",
    "\n",
    "print('Q2.c')\n",
    "print(result)"
   ]
  },
  {
   "cell_type": "markdown",
   "metadata": {},
   "source": [
    "Wirte your report for Q2.c in this cell. Feel free to add extra code cells\n",
    "\n",
    "##### Best Model from Q2.c\n",
    "- Epoch 16 improved: True (loss: 0.8591999999999999) (best: 0.8584)\n",
    "- Saving checkpoint: ../../saved/models/CIFAR10_CNN/0607_150230/best_val_model.pth ...\n",
    "- Checkpoint saved.\n",
    "- New best model saved at epoch 16\n",
    "-     epoch          : 16\n",
    "-     loss           : 0.035746462415489885\n",
    "-     top1           : 0.9875111111111134\n",
    "-     top5           : 1.0\n",
    "-     eval_loss      : 0.6628348636627197\n",
    "-     eval_top1      : 0.8591999999999999\n",
    "-     eval_top5      : 0.9945999999999999\n",
    "- ...\n",
    "- ==> Start Training Epoch 20/50, lr=0.001024 \n",
    "- ==> Finished Epoch 20/50.\n",
    "- ++> Evaluate at epoch 20 ...\n",
    "- ++> Evaluate epoch 20 Finished.\n",
    "- Epoch 20 improved: False (loss: 0.8588) (best: 0.8591999999999999)\n",
    "- Validation performance didn't improve for 4 epochs. Stop training.\n",
    "\n",
    "\n",
    "\n",
    "##### Best Model from Q2.b\n",
    "- Epoch 46 improved: True (loss: 0.8704000000000001) (best: 0.8696)\n",
    "- Saving checkpoint: ../../saved/models/CIFAR10_CNN/0607_143103/best_val_model.pth ...\n",
    "- Checkpoint saved.\n",
    "- New best model saved at epoch 46\n",
    "-     epoch          : 46\n",
    "-     loss           : 0.0035288495176872756\n",
    "-     top1           : 0.9989777777777782\n",
    "-     top5           : 1.0\n",
    "-     eval_loss      : 0.7964597141742706\n",
    "-     eval_top1      : 0.8704000000000001\n",
    "-     eval_top5      : 0.9936000000000001\n",
    "    \n",
    "    \n",
    "#### Report \n",
    "The model resulting after epoch 16 only differs from the model achieved at epoch 46 by a little more than 1% top1 accuracy. This is a huge saving of computational resources compared to small accuracy difference."
   ]
  },
  {
   "cell_type": "markdown",
   "metadata": {
    "id": "qc1RwzMnc4uL"
   },
   "source": [
    "### Question 3: Improve generalization of Convolutional Networks (10 points)\n",
    "\n",
    "We saw in Q2 that the model can start over-fitting to the training set if we continue training for long. To prevent over-fitting, there are two main paradigms we can focus on. The first is to get more training data. This might be a difficult and expensive process involving significant. However, it is generally the most effective way to learn more general models. A cheaper alternative is to perform data augmentation. The second approach is to regularize the model. In the following sub-questions, we will experiment with each of these paradigms and measure the effect on the model generalization. We recommend disabling Early Stopping from previous question (simply removing it from config file) so that it does not interrupt your experiments with data augmentations and you maintain full control over number of epochs.\n",
    "\n",
    "a) Data augmentation is the process of creating more training data by applying certain transformations to the training set images. Usually, the underlying assumption is that the label of the image does not change under the applied transformations. This includes geometric transformations like translation, rotation, scaling, flipping, random cropping, and color transformations like greyscale, colorjitter. For every image in the training batch, a random transformation is sampled from the possible ones (e.g., a random number of pixels to translate the image by) and is applied to the image. While designing the data input pipeline, we must choose the hyper-parameters for these transformations (e.g., limits of translation or rotation) based on things we expect to see in the test-set/real world. Your task in this question is to implement the data augmentation for the CIFAR-10 classification task. Many of these transformations are implemented in the `torchvision.transforms` package. Familiarize yourself with the APIs of these transforms, and functions to compose multiple transforms or randomly sample them. Next, implement geometric and color space data augmentations for the CIFAR-10 dataset, by choosing the right functions and order of application. Tune the hyper-parameters of these data augmentations to improve the validation performance. You will need to train the model a bit longer (20-30 epochs) with data augmentation, as the training data is effectively larger now. Discuss which augmentations work well for you in the report. (6 points)\n",
    "\n",
    "b) Dropout is a popular scheme to regularize the model to improve generalization. The dropout layer works by setting the input activations randomly to zero at the output. You can implement Dropout by adding the `torch.nn.Dropout` layer between the conv blocks in your model. The layer has a single hyper-parameter $p$, which is the probability of dropping the input activations. High values of $p$ regularize the model heavily and decrease model capacity, but with low values, the model might overfit. Find the right hyper-parameter for $p$ by training the model for different values of $p$ and comparing training validation and validation accuracies. You can use the same parameter $p$ for all layers. You can also disable the data augmentation from the previous step while running this experiment, to clearly see the benefit of dropout. Show the plot of training and validation accuracies for different values of dropout (0.1 - 0.9) in the report. (4 points)"
   ]
  },
  {
   "cell_type": "markdown",
   "metadata": {},
   "source": [
    "Wirte your report for Q3 in this cell. Feel free to add extra code cells\n",
    "\n",
    "<br>\n",
    "<br>\n",
    "<br>"
   ]
  },
  {
   "cell_type": "markdown",
   "metadata": {
    "id": "AOgg_0Scc4uL"
   },
   "source": [
    "### Question 4: Use pretrained networks (10 points)\n",
    "\n",
    "It has become standard practice in computer vision tasks related to images to use a convolutional network pre-trained as the backbone feature extraction network and train new layers on top for the target task. In this question, we will implement such a model. We will use the `VGG_11_bn` network from the `torchvision.models` library as our backbone network. This model has been trained on ImageNet, achieving a top-5 error rate of 10.19%. It consists of 8 convolutional layers followed by adaptive average pooling and fully-connected layers to perform the classification. We will get rid of the average pooling and fully-connected layers from the `VGG_11_bn` model and attach our own fully connected layers to perform the CIFAR-10 classification.\n",
    "\n",
    "a) Instantiate a pretrained version of the `VGG_11_bn` model with ImageNet pre-trained weights. Add two fully connected layers on top, with Batch Norm and ReLU layers in between them, to build the CIFAR-10 10-class classifier. Note that you will need to set the correct mean and variance in the data-loader, to match the mean and variance the data was normalized with when the `VGG_11_bn` was trained. Train only the newly added layers while disabling gradients for the rest of the network. Each parameter in PyTorch has a required grad flag, which can be turned off to disable gradient computation for it. Get familiar with this gradient control mechanism in PyTorch and train the above model. As a reference point, you will see validation accuracies in the range (61-65%) if implemented correctly. (6 points)\n",
    "\n",
    "b) We can see that while the ImageNet features are useful, just learning the new layers does not yield better performance than training our own network from scratch. This is due to the domain-shift between the ImageNet dataset (224x224 resolution images) and the CIFAR-10 dataset (32x32 images). To improve the performance we can fine-tune the whole network on the CIFAR-10 dataset, starting from the ImageNet initialization (set `\"fine_tune\"` to `true` in `vgg_cifar10.json`). To do this, enable gradient computation to the rest of the network, and update all the model parameters. Additionally train a baseline model where the same entire network is trained from scratch, without loading the ImageNet weights (set `\"pretrained\"` to `false` in `vgg_cifar10.json`). Compare the two models' training curves, validation, and testing performance in the report. (4 points)"
   ]
  },
  {
   "cell_type": "code",
   "execution_count": null,
   "metadata": {},
   "outputs": [],
   "source": [
    "from trainers.vgg_trainer import VGGTrainer"
   ]
  },
  {
   "cell_type": "markdown",
   "metadata": {},
   "source": [
    " By default WandB is enabled in config file for vgg_cifar10.json. You can set it to false if you don't want to use it."
   ]
  },
  {
   "cell_type": "code",
   "execution_count": null,
   "metadata": {},
   "outputs": [],
   "source": [
    "config = ConfigParser.wo_args(config='cfgs/exercise-3/q4a_vgg_cifar10.json', root_dir=PROJECT_ROOT)\n",
    "\n",
    "wandb_enabled = config['wandb']\n",
    "if wandb_enabled:\n",
    "    import wandb\n",
    "\n",
    "datamodule = config.init_obj('data_module', module_data,\n",
    "                             root_dir=PROJECT_ROOT #Just add the root_dir to the rest of the arguments defined in config file\n",
    "                            )\n",
    "\n",
    "# Based on the heldout_split in the config file, \n",
    "# the datamodule will break the dataset into two splits\n",
    "train_data_loader = datamodule.get_loader()\n",
    "valid_data_loader = datamodule.get_heldout_loader()\n",
    "\n",
    "if wandb_enabled:\n",
    "    # change entity to your wandb username/group name. Also feel free to rename project and run names.\n",
    "    run = wandb.init(project=\"hlcv-exercise-3\", name=\"vgg_cifar10\", config=config, entity=\"malouda-triangle\", dir=PROJECT_ROOT)\n",
    "    run.name = run.name + f'-{run.id}'\n",
    "    assert run is wandb.run\n",
    "\n",
    "trainer_vgg = VGGTrainer(config=config, train_loader=train_data_loader, eval_loader=valid_data_loader)\n",
    "\n",
    "# Test loader is the same as train loader\n",
    "# except that training=False, shuffle=False, and no splitting is done \n",
    "# So we use the exact config from training and just modify these arguments\n",
    "test_loader_args = deepcopy(config['data_module']['args']) #copy the args\n",
    "test_loader_args['training']=False\n",
    "test_loader_args['shuffle']=False\n",
    "test_loader_args['heldout_split']=0.0\n",
    "\n",
    "# Now we initialize the test module with the modified config\n",
    "test_module = getattr(module_data, config['data_module']['type'])(root_dir=PROJECT_ROOT, **test_loader_args)\n",
    "# And get the loader from it\n",
    "test_loader = test_module.get_loader()"
   ]
  },
  {
   "cell_type": "code",
   "execution_count": null,
   "metadata": {},
   "outputs": [],
   "source": [
    "trainer_vgg.train()"
   ]
  },
  {
   "cell_type": "code",
   "execution_count": null,
   "metadata": {},
   "outputs": [],
   "source": [
    "# Change this to the experiment you want to visualize (format is `MMDD_TIME`)\n",
    "checkpoint_dir = '0523_215742' \n",
    "path = ospj(PROJECT_ROOT, f'saved/models/CIFAR10_VGG/{checkpoint_dir}/best_val_model.pth')\n",
    "\n",
    "trainer_vgg.load_model(path=path)\n",
    "\n",
    "result = trainer_vgg.evaluate(loader=test_loader)\n",
    "\n",
    "print(result)\n",
    "\n",
    "if wandb_enabled:\n",
    "    for metrics, values in result.items():\n",
    "        wandb.run.summary[f\"test_{metrics}\"] = values\n",
    "\n",
    "    # Change the title and message as you wish. Would only work if you have enabled push notifications for your email/slack in wandb account settings.\n",
    "    wandb.alert(title=\"Training Finished\", text=f'VGG Training has finished. Test results: {result}', level=wandb.AlertLevel.INFO)\n",
    "\n",
    "    run.finish()"
   ]
  },
  {
   "cell_type": "code",
   "execution_count": null,
   "metadata": {},
   "outputs": [],
   "source": [
    "config = ConfigParser.wo_args(config='cfgs/exercise-3/q4b1_cifar10.json', root_dir=PROJECT_ROOT)\n",
    "trainer_vgg = VGGTrainer(config=config, train_loader=train_data_loader, eval_loader=valid_data_loader)\n",
    "trainer_vgg.train()\n",
    "\n",
    "result = trainer_vgg.evaluate(loader=test_loader)\n",
    "\n",
    "print('Q4.b1')\n",
    "print(result)"
   ]
  },
  {
   "cell_type": "code",
   "execution_count": null,
   "metadata": {},
   "outputs": [],
   "source": [
    "config = ConfigParser.wo_args(config='cfgs/exercise-3/q4b2vgg_cifar10.json', root_dir=PROJECT_ROOT)\n",
    "trainer_vgg = VGGTrainer(config=config, train_loader=train_data_loader, eval_loader=valid_data_loader)\n",
    "trainer_vgg.train()\n",
    "\n",
    "result = trainer_vgg.evaluate(loader=test_loader)\n",
    "\n",
    "print('Q4.b2')\n",
    "print(result)"
   ]
  },
  {
   "cell_type": "markdown",
   "metadata": {
    "id": "-Uvjz11dc4uN"
   },
   "source": [
    "#### Write your report for Q4 in this cell.\n",
    "\n",
    "#### Q4.a\n",
    "\n",
    "##### Best Model\n",
    "- Epoch 2 improved: True (loss: 0.6399999999999999) (best: 0.632)\n",
    "- Saving checkpoint: ../../saved/models/CIFAR10_VGG/0607_153608/best_val_model.pth ...\n",
    "- Checkpoint saved.\n",
    "- New best model saved at epoch 2\n",
    "-    epoch          : 2\n",
    "-    loss           : 0.9959342951244778\n",
    "-    top1           : 0.6475333333333334\n",
    "-    top3           : 0.9033111111111106\n",
    "-    eval_loss      : 1.0316525387763977\n",
    "-    eval_top1      : 0.6399999999999999\n",
    "-    eval_top3      : 0.8919999999999999\n",
    "- ==> Start Training Epoch 3/15, lr=0.000980\n",
    "- ... Epoch 6 improved: False (loss: 0.6224000000000001) (best: 0.6399999999999999)\n",
    "- Validation performance didn't improve for 4 epochs. Stop training.\n",
    "\n",
    "Early stopping got activated early, choosing the second epoch as the best model, it already reaches a validation top1 accuracy of 0.639, which is in bound of the reference scores.\n",
    "\n",
    "\n",
    "#### Q4.b\n",
    "\n",
    "##### Pretrained\n",
    "- Epoch 13 improved: True (loss: 0.8686) (best: 0.8679999999999999)\n",
    "- Saving checkpoint: ../../saved/models/CIFAR10_VGG/0607_153658/best_val_model.pth ...\n",
    "- Checkpoint saved.\n",
    "- New best model saved at epoch 13\n",
    "-     epoch          : 13\n",
    "-     loss           : 0.038532728080948195\n",
    "-     top1           : 0.986911111111113\n",
    "-     top3           : 0.9997555555555557\n",
    "-     eval_loss      : 0.568251280784607\n",
    "-     eval_top1      : 0.8686\n",
    "-     eval_top3      : 0.9724\n",
    "\n",
    "\n",
    "##### Not Pretrained\n",
    "\n",
    "- Epoch 15 improved: True (loss: 0.8151999999999999) (best: 0.81)\n",
    "- Saving checkpoint: ../../saved/models/CIFAR10_VGG/0607_164244/best_val_model.pth ...\n",
    "- Checkpoint saved.\n",
    "- New best model saved at epoch 15\n",
    "-     epoch          : 15\n",
    "-     loss           : 0.052805412678668895\n",
    "-     top1           : 0.9823555555555563\n",
    "-     top3           : 0.9996666666666668\n",
    "-     eval_loss      : 0.8541441011428833\n",
    "-     eval_top1      : 0.8151999999999999\n",
    "-     eval_top3      : 0.9551999999999998\n",
    "\n",
    "The best pretrained model was found at epoch 13, it is 5% better than the not pretrained model at epoch 15. Which is a rather small difference taking into account the pretained model was trained on the huge imagenet dataset. Both easily outperfom the model where we only train the classifier."
   ]
  },
  {
   "cell_type": "code",
   "execution_count": null,
   "metadata": {},
   "outputs": [],
   "source": []
  }
 ],
 "metadata": {
  "kernelspec": {
   "display_name": "Python 3 (ipykernel)",
   "language": "python",
   "name": "python3"
  },
  "language_info": {
   "codemirror_mode": {
    "name": "ipython",
    "version": 3
   },
   "file_extension": ".py",
   "mimetype": "text/x-python",
   "name": "python",
   "nbconvert_exporter": "python",
   "pygments_lexer": "ipython3",
   "version": "3.9.16"
  }
 },
 "nbformat": 4,
 "nbformat_minor": 1
}
