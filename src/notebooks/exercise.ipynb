{
 "cells": [
  {
   "cell_type": "code",
   "execution_count": null,
   "metadata": {},
   "outputs": [],
   "source": [
    "# Only for Colab, comment out if not using Colab\n",
    "# from google.colab import drive\n",
    "# drive.mount('/content/drive')"
   ]
  },
  {
   "cell_type": "code",
   "execution_count": 2,
   "metadata": {},
   "outputs": [],
   "source": [
    "# Change this line if you're using Colab to something like '/content/drive/MyDrive/TeamX/'\n",
    "# where TeamX is just the clone of repository on your Google Drive\n",
    "# and you have mounted the drive at /content/drive  \n",
    "# See the Tutorial Slides for more detail.\n",
    "\n",
    "# Works on your local machine but not on Colab!\n",
    "PROJECT_ROOT = '../..' \n",
    "\n",
    "# Fix this path and use this one on Colab\n",
    "# PROJECT_ROOT = '/content/drive/MyDrive/TeamX' "
   ]
  },
  {
   "cell_type": "code",
   "execution_count": 3,
   "metadata": {},
   "outputs": [],
   "source": [
    "import sys\n",
    "from os.path import join as ospj\n",
    "\n",
    "sys.path.append(ospj(PROJECT_ROOT, 'src'))\n",
    "\n",
    "%load_ext autoreload\n",
    "%autoreload 2"
   ]
  },
  {
   "cell_type": "markdown",
   "metadata": {},
   "source": [
    "## Playing around with the data\n",
    "### 1. Load the data\n",
    "Using the IIT-AFF dataset, we will load the data and see what it looks like.\n",
    "### 2. Visualize the data\n",
    "We will visualize the data to see what it looks like.\n",
    "### 3. Preprocess the data\n",
    "Create a DataLoaders object for the data."
   ]
  },
  {
   "cell_type": "markdown",
   "metadata": {},
   "source": [
    "# Converting Text File to Segmentation Map"
   ]
  },
  {
   "cell_type": "code",
   "execution_count": 4,
   "metadata": {},
   "outputs": [],
   "source": [
    "from PIL import Image\n",
    "import matplotlib.pyplot as plt\n",
    "import pandas as pd\n",
    "import numpy as np\n",
    "import torch\n",
    "import torchvision.transforms as T\n",
    "import cv2\n",
    "\n",
    "\n",
    "data_dir = ospj(PROJECT_ROOT, 'data', 'IIT_Affordances_2017', 'IIT_Affordances_2017')\n",
    "\n",
    "background = (200, 222, 250)\n",
    "c1 = (0,0,205)   \n",
    "c2 = (34,139,34) \n",
    "c3 = (192,192,128)   \n",
    "c4 = (165,42,42)    \n",
    "c5 = (128,64,128)   \n",
    "c6 = (204,102,0)  \n",
    "c7 = (184,134,11) \n",
    "c8 = (0,153,153)\n",
    "c9 = (0,134,141)\n",
    "c10 = (184,0,141) \n",
    "c11 = (184,134,0) \n",
    "c12 = (184,134,223)\n",
    "label_colours = np.array([background, c1, c2, c3, c4, c5, c6, c7, c8, c9, c10, c11, c12])\n",
    "\n",
    "# Object\n",
    "col0 = (0, 0, 0)\n",
    "col1 = (0, 255, 255)\n",
    "col2 = (255, 0, 255)\n",
    "col3 = (0, 125, 255)\n",
    "col4 = (55, 125, 0)\n",
    "col5 = (255, 50, 75)\n",
    "col6 = (100, 100, 50)\n",
    "col7 = (25, 234, 54)\n",
    "col8 = (156, 65, 15)\n",
    "col9 = (215, 25, 155)\n",
    "col10 = (25, 25, 155)\n",
    "\n",
    "col_map = [col0, col1, col2, col3, col4, col5, col6, col7, col8, col9, col10]\n",
    "\n",
    "\n",
    "# img = Image.open(ospj(data_dir, 'rgb', '00_00000090.jpg'))\n",
    "# plt.imshow(img)"
   ]
  },
  {
   "cell_type": "code",
   "execution_count": 5,
   "metadata": {},
   "outputs": [],
   "source": [
    "def parse_affordance_labels(affordance_filename):\n",
    "    with open(affordance_filename) as f:\n",
    "        affordance_labels = f.readlines()\n",
    "        dim1 = len(affordance_labels)\n",
    "        dim2 = len(affordance_labels[0].split())\n",
    "        \n",
    "    count = 0\n",
    "    # Creation of Affordance pixel grid\n",
    "    # Checking image size to continue with creating Segmentation Map\n",
    "    affordance_pixels = []\n",
    "    for label in affordance_labels:\n",
    "        row_pixels = []\n",
    "        digits = label.split()\n",
    "        count = 0\n",
    "        for digit in digits:\n",
    "            if digit.isdigit():\n",
    "                if int(digit) < 0 or int(digit) > (len(label_colours) - 1):\n",
    "                    digit = 0\n",
    "                row_pixels.append(digit)\n",
    "                count += 1\n",
    "        assert count==dim2, f\"Actual count: {count}\"\n",
    "        affordance_pixels.append(row_pixels)\n",
    "            \n",
    "    # dimensions = [dim1, dim2]\n",
    "    affordance_pixels = np.array(affordance_pixels, dtype=np.uint8)\n",
    "    # for i in range(dim1):\n",
    "    #     for j in range(dim2):\n",
    "    #         if affordance_pixels[i][j] < 0 or affordance_pixels[i][j] > 12:\n",
    "    #             logger.info(f\"Negative Value: {affordance_pixels[i][j]}\")\n",
    "\n",
    "    seg_map = label_colours[affordance_pixels]\n",
    "    seg_map = torch.tensor(seg_map, dtype=torch.uint8).reshape(dim1, dim2, 3).permute(2, 0, 1)\n",
    "    \n",
    "    # print(seg_map.shape)\n",
    "\n",
    "    # plt.imshow(seg_map)\n",
    "    # plt.show()\n",
    "\n",
    "    # Normalize the data to be in the range [0, 1]\n",
    "    seg_map_normalized = seg_map / 255.0\n",
    "\n",
    "    # Convert the normalized 3D NumPy array to a PIL image\n",
    "    seg_map_img = transforms.ToPILImage()(seg_map_normalized)\n",
    "    return seg_map_img\n",
    "\n",
    "def parse_object_labels(object_filename):\n",
    "    with open(object_filename, 'r') as file:\n",
    "        lines = file.readlines()\n",
    "\n",
    "    # Split each line into individual values and convert them to integers\n",
    "    object_labels = [list(map(int, line.strip().split())) for line in lines]\n",
    "\n",
    "    # Convert the data to a PyTorch tensor\n",
    "    return torch.tensor(object_labels)"
   ]
  },
  {
   "cell_type": "code",
   "execution_count": 6,
   "metadata": {},
   "outputs": [
    {
     "name": "stderr",
     "output_type": "stream",
     "text": [
      "2023-08-01 23:34:21.982300: I tensorflow/core/platform/cpu_feature_guard.cc:182] This TensorFlow binary is optimized to use available CPU instructions in performance-critical operations.\n",
      "To enable the following instructions: AVX2 FMA, in other operations, rebuild TensorFlow with the appropriate compiler flags.\n",
      "2023-08-01 23:34:23.310470: W tensorflow/compiler/tf2tensorrt/utils/py_utils.cc:38] TF-TRT Warning: Could not find TensorRT\n",
      "/home/nirav/miniconda3/envs/hlcv/lib/python3.10/site-packages/transformers/models/segformer/feature_extraction_segformer.py:28: FutureWarning: The class SegformerFeatureExtractor is deprecated and will be removed in version 5 of Transformers. Please use SegformerImageProcessor instead.\n",
      "  warnings.warn(\n",
      "/home/nirav/miniconda3/envs/hlcv/lib/python3.10/site-packages/transformers/models/segformer/image_processing_segformer.py:99: FutureWarning: The `reduce_labels` parameter is deprecated and will be removed in a future version. Please use `do_reduce_labels` instead.\n",
      "  warnings.warn(\n"
     ]
    }
   ],
   "source": [
    "from transformers import SegformerFeatureExtractor\n",
    "\n",
    "segformer_b0_feature_extractor = SegformerFeatureExtractor.from_pretrained(\"nvidia/segformer-b0-finetuned-ade-512-512\")\n",
    "# segformer_b0_feature_extractor = SegformerFeatureExtractor.from_pretrained(\"nvidia/mit-b0\")\n",
    "segformer_b0_feature_extractor.reduce_labels = True\n",
    "segformer_b0_feature_extractor.size = 600"
   ]
  },
  {
   "cell_type": "code",
   "execution_count": 7,
   "metadata": {},
   "outputs": [
    {
     "data": {
      "image/png": "[encoded data removed]",
      "text/plain": [
       "<Figure size 640x480 with 1 Axes>"
      ]
     },
     "metadata": {},
     "output_type": "display_data"
    },
    {
     "data": {
      "image/png": "[encoded data removed]",
      "text/plain": [
       "<Figure size 640x480 with 1 Axes>"
      ]
     },
     "metadata": {},
     "output_type": "display_data"
    }
   ],
   "source": [
    "import torchvision.transforms as transforms\n",
    "\n",
    "transform = transforms.Compose([\n",
    "    # transforms.Resize((600,600)),\n",
    "    transforms.ToTensor(),\n",
    "])\n",
    "\n",
    "image_filename = ospj(data_dir, \"rgb\", \"n03624134_8945.jpg\")\n",
    "image = Image.open(image_filename).convert(\"RGB\")\n",
    "np_image = np.array(image)\n",
    "\n",
    "# Load Affordance Label\n",
    "affordance_file = \"n03624134_8945.jpg\".replace(\".jpg\", \".txt\")\n",
    "affordance_filename = ospj(data_dir, \"affordances_labels\", affordance_file)\n",
    "affordances_labels = parse_affordance_labels(affordance_filename)\n",
    "\n",
    "# Load Object Label\n",
    "object_file = \"n03624134_8945.jpg\".replace(\".jpg\", \".txt\")\n",
    "object_filename = ospj(data_dir, \"object_labels\", object_file)\n",
    "object_labels = parse_object_labels(object_filename)\n",
    "\n",
    "# Apply transformations if provided\n",
    "if transform is not None:\n",
    "    tensor_image = transform(Image.fromarray(np_image))\n",
    "    affordances_labels = transform(affordances_labels)\n",
    "\n",
    "tensor_image = transforms.ToPILImage()(tensor_image).convert(\"RGB\")\n",
    "plt.imshow(tensor_image)\n",
    "plt.show()\n",
    "\n",
    "affordances_labels = transforms.ToPILImage()(affordances_labels).convert(\"RGB\")\n",
    "plt.imshow(affordances_labels)\n",
    "plt.show()\n",
    "\n",
    "\n",
    "# Extract features if feature_extractor is provided\n",
    "if segformer_b0_feature_extractor is not None:\n",
    "    encoded_inputs = segformer_b0_feature_extractor(tensor_image, affordances_labels, return_tensors=\"pt\")\n",
    "    for k,v in encoded_inputs.items():\n",
    "        encoded_inputs[k].squeeze_()"
   ]
  },
  {
   "cell_type": "code",
   "execution_count": 19,
   "metadata": {},
   "outputs": [
    {
     "name": "stdout",
     "output_type": "stream",
     "text": [
      "pixel_values: torch.Size([3, 600, 600])\n",
      "labels: torch.Size([600, 600, 3])\n"
     ]
    }
   ],
   "source": [
    "for k, v in encoded_inputs.items():\n",
    "    print(f\"{k}: {v.shape}\")"
   ]
  },
  {
   "cell_type": "markdown",
   "metadata": {},
   "source": [
    "## Experimenting with different SegFormer models"
   ]
  },
  {
   "cell_type": "code",
   "execution_count": 3,
   "metadata": {},
   "outputs": [
    {
     "name": "stderr",
     "output_type": "stream",
     "text": [
      "2023-07-30 19:48:22.503321: I tensorflow/core/platform/cpu_feature_guard.cc:182] This TensorFlow binary is optimized to use available CPU instructions in performance-critical operations.\n",
      "To enable the following instructions: AVX2 FMA, in other operations, rebuild TensorFlow with the appropriate compiler flags.\n",
      "2023-07-30 19:48:24.404089: W tensorflow/compiler/tf2tensorrt/utils/py_utils.cc:38] TF-TRT Warning: Could not find TensorRT\n",
      "/home/nirav/miniconda3/envs/hlcv/lib/python3.10/site-packages/transformers/models/segformer/feature_extraction_segformer.py:28: FutureWarning: The class SegformerFeatureExtractor is deprecated and will be removed in version 5 of Transformers. Please use SegformerImageProcessor instead.\n",
      "  warnings.warn(\n",
      "/home/nirav/miniconda3/envs/hlcv/lib/python3.10/site-packages/transformers/models/segformer/image_processing_segformer.py:99: FutureWarning: The `reduce_labels` parameter is deprecated and will be removed in a future version. Please use `do_reduce_labels` instead.\n",
      "  warnings.warn(\n"
     ]
    }
   ],
   "source": [
    "from transformers import SegformerFeatureExtractor, SegformerForImageClassification\n",
    "from PIL import Image\n",
    "import requests\n",
    "\n",
    "# url = \"http://images.cocodataset.org/val2017/000000039769.jpg\"\n",
    "# image = Image.open(requests.get(url, stream=True).raw)\n",
    "\n",
    "seg_b0_feature_extractor = SegformerFeatureExtractor.from_pretrained(\"nvidia/mit-b0\")\n",
    "seg_b0_encoder_model = SegformerForImageClassification.from_pretrained(\"nvidia/mit-b0\")\n",
    "\n",
    "# inputs = seg_b0_feature_extractor(images=img_141, segmentation_maps=seg_map, return_tensors=\"pt\")\n",
    "\n",
    "# print(inputs.keys())\n",
    "\n",
    "# outputs = seg_b0_encoder_model(**inputs)\n",
    "# logits = outputs.logits\n",
    "# # model predicts one of the 1000 ImageNet classes\n",
    "# predicted_class_idx = logits.argmax(-1).item()\n",
    "# print(\"Predicted class:\", model.config.id2label[predicted_class_idx])\n"
   ]
  },
  {
   "cell_type": "code",
   "execution_count": null,
   "metadata": {},
   "outputs": [],
   "source": [
    "print(seg_b0_encoder_model)"
   ]
  },
  {
   "cell_type": "code",
   "execution_count": null,
   "metadata": {},
   "outputs": [],
   "source": [
    "from transformers import SegformerImageProcessor, SegformerForSemanticSegmentation\n",
    "from PIL import Image\n",
    "import requests\n",
    "\n",
    "seg_b0_processor = SegformerImageProcessor.from_pretrained(\"nvidia/segformer-b0-finetuned-ade-512-512\")\n",
    "seg_b0_model = SegformerForSemanticSegmentation.from_pretrained(\"nvidia/segformer-b0-finetuned-ade-512-512\")\n",
    "\n",
    "# url = \"http://images.cocodataset.org/val2017/000000039769.jpg\"\n",
    "# image = Image.open(requests.get(url, stream=True).raw)\n",
    "\n",
    "print(seg_b0_model)\n"
   ]
  },
  {
   "cell_type": "code",
   "execution_count": null,
   "metadata": {},
   "outputs": [],
   "source": [
    "from PIL import Image\n",
    "\n",
    "img = Image.open(ospj(data_dir, 'rgb', 'ILSVRC2014_train_00044663.jpg'))\n",
    "plt.imshow(img)"
   ]
  },
  {
   "cell_type": "code",
   "execution_count": null,
   "metadata": {},
   "outputs": [],
   "source": [
    "inputs = processor_1(images=img_141, bgr_image, return_tensors=\"pt\")\n",
    "outputs = model_1(**inputs)\n",
    "logits = outputs.logits  # shape (batch_size, num_labels, height/4, width/4)"
   ]
  },
  {
   "cell_type": "markdown",
   "metadata": {},
   "source": [
    "## Yolos Object Detection"
   ]
  },
  {
   "cell_type": "code",
   "execution_count": null,
   "metadata": {},
   "outputs": [],
   "source": [
    "from transformers import YolosImageProcessor, YolosForObjectDetection\n",
    "from PIL import Image\n",
    "import torch\n",
    "import requests\n",
    "\n",
    "# url = \"http://images.cocodataset.org/val2017/000000039769.jpg\"\n",
    "# image = Image.open(requests.get(url, stream=True).raw)\n",
    "\n",
    "model = YolosForObjectDetection.from_pretrained('hustvl/yolos-tiny')\n",
    "image_processor = YolosImageProcessor.from_pretrained(\"hustvl/yolos-tiny\")\n",
    "\n"
   ]
  },
  {
   "cell_type": "code",
   "execution_count": null,
   "metadata": {},
   "outputs": [],
   "source": [
    "inputs = image_processor(images=img, return_tensors=\"pt\")\n",
    "outputs = model(**inputs)\n",
    "\n",
    "# model predicts bounding boxes and corresponding COCO classes\n",
    "logits = outputs.logits\n",
    "bboxes = outputs.pred_boxes\n",
    "\n",
    "\n",
    "# print results\n",
    "target_sizes = torch.tensor([img.size[::-1]])\n",
    "results = image_processor.post_process_object_detection(outputs, threshold=0.6, target_sizes=target_sizes)[0]\n",
    "for score, label, box in zip(results[\"scores\"], results[\"labels\"], results[\"boxes\"]):\n",
    "    box = [round(i, 2) for i in box.tolist()]\n",
    "    print(\n",
    "        f\"Detected {model.config.id2label[label.item()]} with confidence \"\n",
    "        f\"{round(score.item(), 3)} at location {box}\"\n",
    "    )\n"
   ]
  },
  {
   "cell_type": "code",
   "execution_count": null,
   "metadata": {},
   "outputs": [],
   "source": [
    "print(results)"
   ]
  },
  {
   "cell_type": "markdown",
   "metadata": {},
   "source": [
    "# Experimenting with the DataLoader"
   ]
  },
  {
   "cell_type": "code",
   "execution_count": 3,
   "metadata": {},
   "outputs": [],
   "source": [
    "import torch\n",
    "import torch.nn.functional as F\n",
    "\n",
    "def collate_fn(batch):\n",
    "    images = [item[\"image\"] for item in batch]\n",
    "    affordances_labels = [item[\"affordances_labels\"] for item in batch]\n",
    "    object_labels = [item[\"object_labels\"] for item in batch]\n",
    "    encoded_inputs = [item[\"encoded_input\"] for item in batch]\n",
    "\n",
    "    # Pad images to the same size\n",
    "    max_width = max(image.shape[-1] for image in images)\n",
    "    max_height = max(image.shape[-2] for image in images)\n",
    "\n",
    "    padded_images = [\n",
    "        F.pad(image, (0, max_width - image.shape[-1], 0, max_height - image.shape[-2]))\n",
    "        for image in images\n",
    "    ]\n",
    "    padded_images = torch.stack(padded_images)\n",
    "\n",
    "    # # Pad affordances labels to the same size\n",
    "    max_width = max(label.shape[-1] for label in affordances_labels)\n",
    "    max_height = max(label.shape[-2] for label in affordances_labels)\n",
    "    padded_affordances_labels = [\n",
    "        F.pad(label, (0, max_width - label.shape[-1], 0, max_height - label.shape[-2]))\n",
    "        for label in affordances_labels\n",
    "    ]\n",
    "    padded_affordances_labels = torch.stack(padded_affordances_labels)\n",
    "\n",
    "    # Pad objects labels to the same size\n",
    "    max_length = max(label.shape[0] for label in object_labels)\n",
    "    padded_object_labels = [\n",
    "        F.pad(label, (0, 0, 0, max_length - label.shape[0]))\n",
    "        for label in object_labels\n",
    "    ]\n",
    "\n",
    "    return {\n",
    "        \"image\": padded_images,\n",
    "        \"affordances_labels\": padded_affordances_labels,\n",
    "        \"object_labels\": torch.stack(padded_object_labels),\n",
    "        \"encoded_input\": encoded_inputs\n",
    "    }"
   ]
  },
  {
   "cell_type": "code",
   "execution_count": 4,
   "metadata": {},
   "outputs": [
    {
     "name": "stderr",
     "output_type": "stream",
     "text": [
      "2023-08-01 15:18:58.723681: I tensorflow/core/platform/cpu_feature_guard.cc:182] This TensorFlow binary is optimized to use available CPU instructions in performance-critical operations.\n",
      "To enable the following instructions: AVX2 FMA, in other operations, rebuild TensorFlow with the appropriate compiler flags.\n",
      "2023-08-01 15:19:00.263720: W tensorflow/compiler/tf2tensorrt/utils/py_utils.cc:38] TF-TRT Warning: Could not find TensorRT\n",
      "/home/nirav/miniconda3/envs/hlcv/lib/python3.10/site-packages/transformers/models/segformer/feature_extraction_segformer.py:28: FutureWarning: The class SegformerFeatureExtractor is deprecated and will be removed in version 5 of Transformers. Please use SegformerImageProcessor instead.\n",
      "  warnings.warn(\n",
      "/home/nirav/miniconda3/envs/hlcv/lib/python3.10/site-packages/transformers/models/segformer/image_processing_segformer.py:99: FutureWarning: The `reduce_labels` parameter is deprecated and will be removed in a future version. Please use `do_reduce_labels` instead.\n",
      "  warnings.warn(\n"
     ]
    }
   ],
   "source": [
    "from data_loaders.AffordanceDataset import AffordanceDataset\n",
    "import torch\n",
    "from torch.utils.data import DataLoader\n",
    "from torchvision import transforms\n",
    "from torchvision.transforms import ToTensor, Normalize, Compose, Resize\n",
    "from transformers import SegformerFeatureExtractor\n",
    "\n",
    "data_dir = ospj(PROJECT_ROOT, 'data', 'IIT_Affordances_2017', 'IIT_Affordances_2017')\n",
    "\n",
    "segformer_b0_feature_extractor = SegformerFeatureExtractor.from_pretrained(\"nvidia/segformer-b0-finetuned-ade-512-512\")\n",
    "# segformer_b0_feature_extractor = SegformerFeatureExtractor.from_pretrained(\"nvidia/mit-b0\")\n",
    "segformer_b0_feature_extractor.reduce_labels = True\n",
    "segformer_b0_feature_extractor.size = 600\n",
    "\n",
    "\n",
    "transform = Compose([Resize((600,600)),\n",
    "                     ToTensor()])\n",
    "\n",
    "example_dataset = AffordanceDataset(root_dir=data_dir,\n",
    "                                split_file=\"example.txt\",\n",
    "                                feature_extractor=segformer_b0_feature_extractor,\n",
    "                                transform=transform)\n",
    "\n",
    "# train_dataset = AffordanceDataset(root_dir=data_dir,\n",
    "#                                 split_file=\"train_and_val.txt\",\n",
    "#                                 feature_extractor=segformer_b0_feature_extractor,\n",
    "#                                 transform=transform)\n",
    "                    \n",
    "\n",
    "validation_dataset = AffordanceDataset(root_dir=data_dir, \n",
    "                                  split_file=\"val.txt\",\n",
    "                                  feature_extractor=segformer_b0_feature_extractor, \n",
    "                                  transform=transform)\n",
    "\n",
    "test_dataset = AffordanceDataset(root_dir=data_dir,\n",
    "                                split_file=\"test.txt\",\n",
    "                                feature_extractor=segformer_b0_feature_extractor,\n",
    "                                transform=transform)\n",
    "\n",
    "batch_size = 8\n",
    "\n",
    "example_loader = DataLoader(example_dataset, batch_size=batch_size, shuffle=True, num_workers=2) #, collate_fn=collate_fn)\n",
    "# train_loader = DataLoader(train_dataset, batch_size=batch_size, shuffle=True, num_workers=2)\n",
    "validation_loader = DataLoader(validation_dataset, batch_size=batch_size, shuffle=True, num_workers=2) #, collate_fn=collate_fn)\n",
    "test_loader = DataLoader(test_dataset, batch_size=batch_size, shuffle=True, num_workers=2) #, collate_fn=collate_fn)"
   ]
  },
  {
   "cell_type": "code",
   "execution_count": 5,
   "metadata": {},
   "outputs": [],
   "source": [
    "\n",
    "torch.cuda.empty_cache()"
   ]
  },
  {
   "cell_type": "code",
   "execution_count": 6,
   "metadata": {},
   "outputs": [
    {
     "name": "stdout",
     "output_type": "stream",
     "text": [
      "id2label: dict_keys([0, 1, 2, 3, 4, 5, 6, 7, 8, 255])\n",
      "label2id: dict_keys(['contain', 'cut', 'display', 'engine', 'grasp', 'hit', 'pound', 'support', 'w-grasp', 'background'])\n",
      "id2label: <class 'dict'>\n",
      "label2id: <class 'dict'>\n",
      "num_classes: 10\n"
     ]
    },
    {
     "name": "stderr",
     "output_type": "stream",
     "text": [
      "Some weights of SegformerForSemanticSegmentation were not initialized from the model checkpoint at nvidia/segformer-b0-finetuned-ade-512-512 and are newly initialized because the shapes did not match:\n",
      "- decode_head.classifier.weight: found shape torch.Size([150, 256, 1, 1]) in the checkpoint and torch.Size([10, 256, 1, 1]) in the model instantiated\n",
      "- decode_head.classifier.bias: found shape torch.Size([150]) in the checkpoint and torch.Size([10]) in the model instantiated\n",
      "You should probably TRAIN this model on a down-stream task to be able to use it for predictions and inference.\n",
      "/mnt/c/Users/Nirav/Documents/Saarland University/2023SoSe/HLCV/project/hlcv-project/src/notebooks/../../src/trainers/segformer_trainer1.py:41: FutureWarning: load_metric is deprecated and will be removed in the next major version of datasets. Use 'evaluate.load' instead, from the new library 🤗 Evaluate: https://huggingface.co/docs/evaluate\n",
      "  self.train_mean_iou = load_metric(\"mean_iou\")\n"
     ]
    }
   ],
   "source": [
    "from trainers.segformer_trainer1 import SegformerFinetuner\n",
    "\n",
    "\n",
    "segformer_finetuner = SegformerFinetuner(\n",
    "    validation_dataset.id2label, \n",
    "    train_dataloader=validation_loader, \n",
    "    val_dataloader=example_loader, \n",
    "    test_dataloader=test_loader, \n",
    "    metrics_interval=10,\n",
    ")"
   ]
  },
  {
   "cell_type": "code",
   "execution_count": 7,
   "metadata": {},
   "outputs": [],
   "source": [
    "torch.cuda.empty_cache()"
   ]
  },
  {
   "cell_type": "code",
   "execution_count": 8,
   "metadata": {},
   "outputs": [],
   "source": [
    "# from utils.parse_batch import parse_encoded_input, parse_object_labels\n",
    "# import logging\n",
    "\n",
    "# logging.basicConfig(level=logging.DEBUG,  # Set the logging level (DEBUG, INFO, WARNING, ERROR, CRITICAL)\n",
    "#                     format='%(asctime)s - %(levelname)s - %(message)s',\n",
    "#                     filename='app.log',  # Output log messages to a file (optional)\n",
    "#                     filemode='w')\n",
    "\n",
    "# logger = logging.getLogger()\n",
    "\n",
    "# for batch in example_loader:\n",
    "#     torch.cuda.empty_cache()\n",
    "#     # images, masks = parse_encoded_input(batch)\n",
    "#     images, masks = batch['pixel_values'], batch['labels']\n",
    "#     # print(f\"Shape of images: {images.shape}\")\n",
    "#     # print(f\"Shape of masks: {masks.shape}\")\n",
    "#     # print(masks[0].shape)\n",
    "#     mask = masks[0]\n",
    "#     for i in range(mask.shape[0]):\n",
    "#         for j in range(mask.shape[1]):\n",
    "#             if mask[i][j] != 255:\n",
    "#                 print(mask[i][j])\n",
    "    "
   ]
  },
  {
   "cell_type": "code",
   "execution_count": 9,
   "metadata": {},
   "outputs": [
    {
     "data": {
      "application/vnd.jupyter.widget-view+json": {
       "model_id": "b9b3452881fe4866a302edfdb470a156",
       "version_major": 2,
       "version_minor": 0
      },
      "text/plain": [
       "Sanity Checking: 0it [00:00, ?it/s]"
      ]
     },
     "metadata": {},
     "output_type": "display_data"
    },
    {
     "name": "stderr",
     "output_type": "stream",
     "text": [
      "/home/nirav/miniconda3/envs/hlcv/lib/python3.10/site-packages/pytorch_lightning/trainer/connectors/data_connector.py:480: PossibleUserWarning: Your `val_dataloader`'s sampler has shuffling enabled, it is strongly recommended that you turn shuffling off for val/test dataloaders.\n",
      "  rank_zero_warn(\n"
     ]
    },
    {
     "ename": "",
     "evalue": "",
     "output_type": "error",
     "traceback": [
      "\u001b[1;31mCannot execute code, session has been disposed. Please try restarting the Kernel."
     ]
    },
    {
     "ename": "",
     "evalue": "",
     "output_type": "error",
     "traceback": [
      "\u001b[1;31mThe Kernel crashed while executing code in the the current cell or a previous cell. Please review the code in the cell(s) to identify a possible cause of the failure. Click <a href='https://aka.ms/vscodeJupyterKernelCrash'>here</a> for more info. View Jupyter <a href='command:jupyter.viewOutput'>log</a> for further details."
     ]
    }
   ],
   "source": [
    "import pytorch_lightning as pl\n",
    "from pytorch_lightning.callbacks.early_stopping import EarlyStopping\n",
    "from pytorch_lightning.callbacks.model_checkpoint import ModelCheckpoint\n",
    "\n",
    "early_stop_callback = EarlyStopping(\n",
    "    monitor=\"val_loss\", \n",
    "    min_delta=0.00, \n",
    "    patience=3, \n",
    "    verbose=False, \n",
    "    mode=\"min\",\n",
    ")\n",
    "\n",
    "checkpoint_callback = ModelCheckpoint(save_top_k=1, monitor=\"val_loss\")\n",
    "\n",
    "trainer = pl.Trainer(\n",
    "    accelerator=\"gpu\",\n",
    "    devices=1, \n",
    "    callbacks=[early_stop_callback, checkpoint_callback],\n",
    "    max_epochs=2,\n",
    "    val_check_interval=len(validation_loader),\n",
    ")\n",
    "\n",
    "trainer.fit(segformer_finetuner)"
   ]
  },
  {
   "cell_type": "code",
   "execution_count": null,
   "metadata": {},
   "outputs": [],
   "source": [
    "torch.cuda.empty_cache()"
   ]
  },
  {
   "cell_type": "code",
   "execution_count": null,
   "metadata": {},
   "outputs": [],
   "source": []
  }
 ],
 "metadata": {
  "kernelspec": {
   "display_name": "hlcv",
   "language": "python",
   "name": "python3"
  },
  "language_info": {
   "codemirror_mode": {
    "name": "ipython",
    "version": 3
   },
   "file_extension": ".py",
   "mimetype": "text/x-python",
   "name": "python",
   "nbconvert_exporter": "python",
   "pygments_lexer": "ipython3",
   "version": "3.10.11"
  }
 },
 "nbformat": 4,
 "nbformat_minor": 2
}
